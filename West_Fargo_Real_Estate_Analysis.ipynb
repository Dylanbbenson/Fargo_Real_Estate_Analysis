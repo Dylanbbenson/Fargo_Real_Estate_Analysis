{
 "cells": [
  {
   "cell_type": "code",
   "execution_count": 1,
   "metadata": {
    "tags": []
   },
   "outputs": [],
   "source": [
    "import requests\n",
    "import re\n",
    "import json\n",
    "import pandas as pd\n",
    "import numpy as np\n",
    "import seaborn as sns\n",
    "import matplotlib.pyplot as plt"
   ]
  },
  {
   "cell_type": "markdown",
   "metadata": {},
   "source": [
    "## Get and read in data"
   ]
  },
  {
   "cell_type": "code",
   "execution_count": null,
   "metadata": {
    "tags": []
   },
   "outputs": [],
   "source": [
    "%run zillow_data_scrape.py"
   ]
  },
  {
   "cell_type": "code",
   "execution_count": null,
   "metadata": {
    "tags": []
   },
   "outputs": [],
   "source": [
    "df = pd.read_csv(\"./data/West_Fargo_Homes_ForSale.csv\")\n",
    "df2 = pd.read_csv(\"./data/West_Fargo_Apartments_ForRental.csv\")\n",
    "\n",
    "null_price = df[df[\"unformattedPrice\"].isnull()]\n",
    "null_price2 = df2[df2[\"unformattedPrice\"].isnull()]\n",
    "df.drop(null_price.index, inplace=True)\n",
    "df2.drop(null_price2.index, inplace=True)\n",
    "\n",
    "#set zestimate equal to price if 0, set best_deal equal to division\n",
    "df.loc[(df['zestimate'].isnull()) | (df['zestimate'] == 0), 'zestimate'] = df['unformattedPrice']\n",
    "df['best_deal'] = df['zestimate'] - df['unformattedPrice']\n",
    "df.sort_values(\"best_deal\")\n",
    "\n",
    "df2.loc[(df2['zestimate'].isnull()) | (df2['zestimate'] == 0), 'zestimate'] = df2['unformattedPrice']\n",
    "df2['best_deal'] = df2['zestimate'] - df2['unformattedPrice']\n",
    "df2.sort_values(\"unformattedPrice\")\n",
    "df.head()"
   ]
  },
  {
   "cell_type": "markdown",
   "metadata": {},
   "source": [
    "## Homes"
   ]
  },
  {
   "cell_type": "markdown",
   "metadata": {},
   "source": [
    "#### averages of price and best deal"
   ]
  },
  {
   "cell_type": "code",
   "execution_count": null,
   "metadata": {
    "tags": []
   },
   "outputs": [],
   "source": [
    "home_averages = df.copy()\n",
    "\n",
    "# Step 1: Select columns of number home_averages type\n",
    "num_cols = home_averages.select_dtypes(include=['int', 'float']).drop(['zpid', 'addressZipcode'], axis=1)\n",
    "\n",
    "# Step 2: Calculate mean of each column\n",
    "mean_row = num_cols.mean()\n",
    "median_row = num_cols.median()\n",
    "mode_row = num_cols.mode()\n",
    "\n",
    "mean_row = pd.DataFrame(mean_row)\n",
    "mean_row = mean_row.transpose()\n",
    "\n",
    "median_row = pd.DataFrame(median_row)\n",
    "median_row = median_row.transpose()\n",
    "\n",
    "mode_row = pd.DataFrame(mode_row)\n",
    "mode_row = mode_row.head(1)\n",
    "\n",
    "# Step 3: Append new row to home_averagesframe\n",
    "home_averages = home_averages.append(mean_row, ignore_index=True)\n",
    "home_averages = home_averages.append(median_row, ignore_index=True)\n",
    "home_averages = home_averages.append(mode_row, ignore_index=True)\n",
    "\n",
    "home_averages = home_averages.round(decimals = 2)\n",
    "\n",
    "home_averages = home_averages[['unformattedPrice', 'zestimate', 'best_deal', 'beds', 'baths', 'area']]\n",
    "\n",
    "home_averages = home_averages.tail(3)\n",
    "\n",
    "names = ['Mean', 'Median', 'Mode']\n",
    "home_averages['name'] = names\n",
    "\n",
    "# create a new column with the same values as the \"name\" column\n",
    "new_col = home_averages['name']\n",
    "\n",
    "# remove the original \"name\" column\n",
    "home_averages = home_averages.drop('name', axis=1)\n",
    "\n",
    "# add the new column in the first position\n",
    "home_averages.insert(0, 'name', new_col)\n",
    "\n",
    "print('Average House For Sale in West Fargo: ')\n",
    "home_averages"
   ]
  },
  {
   "cell_type": "code",
   "execution_count": null,
   "metadata": {
    "tags": []
   },
   "outputs": [],
   "source": [
    "## Histogram of prices"
   ]
  },
  {
   "cell_type": "code",
   "execution_count": null,
   "metadata": {
    "tags": []
   },
   "outputs": [],
   "source": [
    "plt.hist(df['unformattedPrice'], bins=10, range=(110000, 160000))\n",
    "plt.xlabel('Unformatted Price')\n",
    "plt.ylabel('Frequency')\n",
    "plt.title('Home Prices Across West Fargo')\n",
    "plt.show()"
   ]
  },
  {
   "cell_type": "markdown",
   "metadata": {},
   "source": [
    "#### Pie chart of builders"
   ]
  },
  {
   "cell_type": "code",
   "execution_count": null,
   "metadata": {},
   "outputs": [],
   "source": [
    "builders = df.copy()\n",
    "\n",
    "#builders[\"builderName\"].fillna(\"Not Listed\", inplace=True)\n",
    "builders['builderName'] = builders['builderName'].str.replace(', llc', '', case=False)\n",
    "builders['builderName'] = builders['builderName'].str.replace('llc', '', case=False)\n",
    "builders['builderName'] = builders['builderName'].str.replace(', inc', '', case=False)\n",
    "\n",
    "# create pandas series of counts of unique values in \"builderName\" column\n",
    "builder_counts = builders['builderName'].value_counts()\n",
    "\n",
    "# extract values and index of pandas series\n",
    "data = builder_counts.values\n",
    "labels = builder_counts.index\n",
    "\n",
    "# define Seaborn color palette to use\n",
    "colors = sns.color_palette('pastel')[0:len(data)]\n",
    "\n",
    "sns.set(rc={\"figure.figsize\":(40, 12)})\n",
    "# create pie chart\n",
    "plt.pie(data, labels=labels, colors=colors, autopct='%.0f%%')\n",
    "plt.show()"
   ]
  },
  {
   "cell_type": "code",
   "execution_count": null,
   "metadata": {
    "tags": []
   },
   "outputs": [],
   "source": [
    "builder_count = df[\"builderName\"].value_counts()\n",
    "\n",
    "total = builder_count.sum()\n",
    "threshold = total * 0.02\n",
    "\n",
    "other_count = builder_count[builder_count < threshold].sum()\n",
    "builder_count = builder_count[builder_count >= threshold]\n",
    "builder_count[\"other\"] = other_count\n",
    "\n",
    "builder_count.plot.pie(figsize=(8, 8), autopct='%1.1f%%', colors=['red', 'green', 'blue', 'purple', 'orange', 'pink'])\n",
    "plt.title(\"Construction Companies' Share of Houses Currently Available for Sale in West Fargo\")\n",
    "plt.ylabel(\"\")\n",
    "plt.show()"
   ]
  },
  {
   "cell_type": "code",
   "execution_count": null,
   "metadata": {
    "tags": []
   },
   "outputs": [],
   "source": [
    "## Pie chart of brokers"
   ]
  },
  {
   "cell_type": "code",
   "execution_count": null,
   "metadata": {
    "tags": []
   },
   "outputs": [],
   "source": [
    "brokers = df.copy()\n",
    "#brokers[\"brokerName\"].fillna(\"Not Listed\", inplace=True)\n",
    "brokers['brokerName'] = brokers['brokerName'].str.replace(', llc', '', case=False)\n",
    "brokers['brokerName'] = brokers['brokerName'].str.replace('llc', '', case=False)\n",
    "brokers['brokerName'] = brokers['brokerName'].str.replace(', inc', '', case=False)\n",
    "brokers['brokerName'] = brokers['brokerName'].str.replace(', REALTORS', '', case=False)\n",
    "\n",
    "# create pandas series of counts of unique values in \"brokerName\" column\n",
    "broker_counts = brokers['brokerName'].value_counts()\n",
    "\n",
    "# extract values and index of pandas series\n",
    "data = broker_counts.values\n",
    "labels = broker_counts.index\n",
    "\n",
    "# define Seaborn color palette to use\n",
    "colors = sns.color_palette('pastel')[0:len(data)]\n",
    "\n",
    "sns.set(rc={\"figure.figsize\":(40, 12)})\\\n",
    "\n",
    "# create pie chart\n",
    "plt.pie(data, labels=labels, colors=colors, autopct='%.0f%%')\n",
    "plt.show()"
   ]
  },
  {
   "cell_type": "code",
   "execution_count": null,
   "metadata": {
    "tags": []
   },
   "outputs": [],
   "source": [
    "broker_count = df[\"brokerName\"].value_counts()\n",
    "\n",
    "total = broker_count.sum()\n",
    "threshold = total * 0.02\n",
    "\n",
    "other_count = broker_count[broker_count < threshold].sum()\n",
    "broker_count = broker_count[broker_count >= threshold]\n",
    "broker_count[\"other\"] = other_count\n",
    "\n",
    "broker_count.plot.pie(figsize=(8, 8), autopct='%1.1f%%', colors=['red', 'green', 'blue', 'purple', 'orange', 'pink'])\n",
    "plt.title(\"Brokerage Companies' Share of Houses Currently Available for Sale in West Fargo\")\n",
    "plt.ylabel(\"\")\n",
    "plt.show()"
   ]
  },
  {
   "cell_type": "code",
   "execution_count": null,
   "metadata": {
    "tags": []
   },
   "outputs": [],
   "source": [
    "## Beds and Baths"
   ]
  },
  {
   "cell_type": "code",
   "execution_count": null,
   "metadata": {
    "tags": []
   },
   "outputs": [],
   "source": [
    "plt.hist(df['beds'], bins=6)\n",
    "plt.xlabel('Beds')\n",
    "plt.ylabel('Frequency')\n",
    "plt.title('Number of Beds in Available House Across West Fargo')\n",
    "plt.show()"
   ]
  },
  {
   "cell_type": "code",
   "execution_count": null,
   "metadata": {
    "tags": []
   },
   "outputs": [],
   "source": [
    "plt.hist(df['baths'], bins=6)\n",
    "plt.xlabel('Baths')\n",
    "plt.ylabel('Frequency')\n",
    "plt.title('Number of Baths in Apartment Rental Across West Fargo')\n",
    "plt.show()"
   ]
  },
  {
   "cell_type": "code",
   "execution_count": null,
   "metadata": {
    "tags": []
   },
   "outputs": [],
   "source": [
    "#Scatter plot comparing Area with Price\n",
    "sns.set(rc={\"figure.figsize\":(20, 5)})\n",
    "scatter = sns.scatterplot(data=df, x='area', y='unformattedPrice', legend='auto', s=50)\n",
    "scatter.set_title(\"Correlation between Area and Price in West Fargo Homes For Sale\", fontdict={'size': 20, 'weight': 'bold'})\n",
    "scatter.set_xlabel('Area (sq ft)', fontdict={'size': 15})\n",
    "scatter.set_ylabel('Price', fontdict={'size': 15})\n",
    "plt.show()"
   ]
  },
  {
   "cell_type": "markdown",
   "metadata": {
    "tags": []
   },
   "source": [
    "## Apartments"
   ]
  },
  {
   "cell_type": "code",
   "execution_count": null,
   "metadata": {
    "tags": []
   },
   "outputs": [],
   "source": [
    "## averages of price and best deal"
   ]
  },
  {
   "cell_type": "code",
   "execution_count": null,
   "metadata": {
    "tags": []
   },
   "outputs": [],
   "source": [
    "apt_averages = df2.copy()\n",
    "\n",
    "# Step 1: Select columns of number apt_averages type\n",
    "num_cols = apt_averages.select_dtypes(include=['int', 'float']).drop(['addressZipcode'], axis=1)\n",
    "\n",
    "# Step 2: Calculate mean of each column\n",
    "mean_row = num_cols.mean()\n",
    "median_row = num_cols.median()\n",
    "mode_row = num_cols.mode()\n",
    "\n",
    "mean_row = pd.DataFrame(mean_row)\n",
    "mean_row = mean_row.transpose()\n",
    "\n",
    "median_row = pd.DataFrame(median_row)\n",
    "median_row = median_row.transpose()\n",
    "\n",
    "mode_row = pd.DataFrame(mode_row)\n",
    "mode_row = mode_row.head(1)\n",
    "\n",
    "# Step 3: Append new row to apt_averagesframe\n",
    "apt_averages = apt_averages.append(mean_row, ignore_index=True)\n",
    "apt_averages = apt_averages.append(median_row, ignore_index=True)\n",
    "apt_averages = apt_averages.append(mode_row, ignore_index=True)\n",
    "\n",
    "apt_averages = apt_averages.round(decimals = 2)\n",
    "\n",
    "apt_averages = apt_averages[['unformattedPrice', 'zestimate', 'best_deal', 'beds', 'baths', 'area']]\n",
    "\n",
    "apt_averages = apt_averages.tail(3)\n",
    "\n",
    "names = ['Mean', 'Median', 'Mode']\n",
    "apt_averages['name'] = names\n",
    "\n",
    "# create a new column with the same values as the \"name\" column\n",
    "new_col = apt_averages['name']\n",
    "\n",
    "# remove the original \"name\" column\n",
    "apt_averages = apt_averages.drop('name', axis=1)\n",
    "\n",
    "# add the new column in the first position\n",
    "apt_averages.insert(0, 'name', new_col)\n",
    "\n",
    "print('Average Apartment For Rental in West Fargo: ')\n",
    "apt_averages"
   ]
  },
  {
   "cell_type": "code",
   "execution_count": null,
   "metadata": {},
   "outputs": [],
   "source": [
    "## Histogram of price"
   ]
  },
  {
   "cell_type": "code",
   "execution_count": null,
   "metadata": {
    "tags": []
   },
   "outputs": [],
   "source": [
    "plt.hist(df2['unformattedPrice'], bins=12, range=(400, 2000))\n",
    "plt.xlabel('Price')\n",
    "plt.ylabel('Frequency')\n",
    "plt.title('Apartments Rental Rates Across West Fargo')\n",
    "plt.show()"
   ]
  },
  {
   "cell_type": "code",
   "execution_count": null,
   "metadata": {
    "tags": []
   },
   "outputs": [],
   "source": [
    "## beds, baths, and area"
   ]
  },
  {
   "cell_type": "code",
   "execution_count": null,
   "metadata": {
    "tags": []
   },
   "outputs": [],
   "source": [
    "plt.hist(df2['beds'], bins=6)\n",
    "plt.xlabel('Beds')\n",
    "plt.ylabel('Frequency')\n",
    "plt.title('Number of Beds in Apartment Rental Across West Fargo')\n",
    "plt.show()"
   ]
  },
  {
   "cell_type": "code",
   "execution_count": null,
   "metadata": {
    "tags": []
   },
   "outputs": [],
   "source": [
    "plt.hist(df2['baths'], bins=4)\n",
    "plt.xlabel('Baths')\n",
    "plt.ylabel('Frequency')\n",
    "plt.title('Number of Baths in Apartment Rental Across West Fargo')\n",
    "plt.show()"
   ]
  },
  {
   "cell_type": "code",
   "execution_count": null,
   "metadata": {
    "tags": []
   },
   "outputs": [],
   "source": [
    "## Pie chart of builders"
   ]
  },
  {
   "cell_type": "code",
   "execution_count": null,
   "metadata": {
    "tags": []
   },
   "outputs": [],
   "source": [
    "## Pie chart of brokers"
   ]
  },
  {
   "cell_type": "code",
   "execution_count": null,
   "metadata": {},
   "outputs": [],
   "source": [
    "## Pie chart of open house"
   ]
  },
  {
   "cell_type": "code",
   "execution_count": null,
   "metadata": {
    "tags": []
   },
   "outputs": [],
   "source": [
    "#Scatter plot comparing Area with Price\n",
    "sns.set(rc={\"figure.figsize\":(20, 5)})\n",
    "scatter = sns.scatterplot(data=df2, x='area', y='unformattedPrice', legend='auto', s=50)\n",
    "scatter.set_title(\"Correlation between Area and Price in West Fargo Apartments For Rental\", fontdict={'size': 20, 'weight': 'bold'})\n",
    "scatter.set_xlabel('Area (sq ft)', fontdict={'size': 15})\n",
    "scatter.set_ylabel('Price', fontdict={'size': 15})\n",
    "plt.show()"
   ]
  }
 ],
 "metadata": {
  "kernelspec": {
   "display_name": "Python 3 (ipykernel)",
   "language": "python",
   "name": "python3"
  },
  "language_info": {
   "codemirror_mode": {
    "name": "ipython",
    "version": 3
   },
   "file_extension": ".py",
   "mimetype": "text/x-python",
   "name": "python",
   "nbconvert_exporter": "python",
   "pygments_lexer": "ipython3",
   "version": "3.10.9"
  }
 },
 "nbformat": 4,
 "nbformat_minor": 4
}
