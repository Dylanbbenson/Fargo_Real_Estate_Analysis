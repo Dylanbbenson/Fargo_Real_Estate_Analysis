{
 "cells": [
  {
   "cell_type": "code",
   "execution_count": 1,
   "metadata": {
    "tags": []
   },
   "outputs": [],
   "source": [
    "import requests\n",
    "import re\n",
    "import json\n",
    "import pandas as pd\n",
    "import numpy as np\n",
    "import seaborn as sns\n",
    "import matplotlib.pyplot as plt\n",
    "import sys\n",
    "import googlemaps\n",
    "import geopandas as gpd\n",
    "import requests\n",
    "import json\n",
    "import plotly.express as px\n",
    "import warnings\n",
    "warnings.filterwarnings('ignore')\n",
    "from pathlib import Path\n",
    "import shapely\n",
    "import folium\n",
    "import contextily as ctx\n",
    "from shapely.geometry import Point"
   ]
  },
  {
   "cell_type": "markdown",
   "metadata": {},
   "source": [
    "## Get and read in data"
   ]
  },
  {
   "cell_type": "code",
   "execution_count": null,
   "metadata": {},
   "outputs": [],
   "source": [
    "city = 'fargo'\n",
    "state = 'nd'\n",
    "%run zillow_data_scrape.py fargo nd"
   ]
  },
  {
   "cell_type": "code",
   "execution_count": null,
   "metadata": {},
   "outputs": [],
   "source": [
    "city = 'west fargo'\n",
    "state = 'nd'\n",
    "%run zillow_data_scrape.py west-fargo nd"
   ]
  },
  {
   "cell_type": "code",
   "execution_count": null,
   "metadata": {},
   "outputs": [],
   "source": [
    "city = 'moorhead'\n",
    "state = 'mn'\n",
    "%run zillow_data_scrape.py moorhead mn"
   ]
  },
  {
   "cell_type": "code",
   "execution_count": 3,
   "metadata": {
    "tags": []
   },
   "outputs": [
    {
     "data": {
      "text/html": [
       "<div>\n",
       "<style scoped>\n",
       "    .dataframe tbody tr th:only-of-type {\n",
       "        vertical-align: middle;\n",
       "    }\n",
       "\n",
       "    .dataframe tbody tr th {\n",
       "        vertical-align: top;\n",
       "    }\n",
       "\n",
       "    .dataframe thead th {\n",
       "        text-align: right;\n",
       "    }\n",
       "</style>\n",
       "<table border=\"1\" class=\"dataframe\">\n",
       "  <thead>\n",
       "    <tr style=\"text-align: right;\">\n",
       "      <th></th>\n",
       "      <th>Unnamed: 0</th>\n",
       "      <th>zpid</th>\n",
       "      <th>imgSrc</th>\n",
       "      <th>statusType</th>\n",
       "      <th>price</th>\n",
       "      <th>unformattedPrice</th>\n",
       "      <th>zestimate</th>\n",
       "      <th>best_deal</th>\n",
       "      <th>address</th>\n",
       "      <th>addressZipcode</th>\n",
       "      <th>beds</th>\n",
       "      <th>baths</th>\n",
       "      <th>area</th>\n",
       "      <th>variableData</th>\n",
       "    </tr>\n",
       "  </thead>\n",
       "  <tbody>\n",
       "    <tr>\n",
       "      <th>2</th>\n",
       "      <td>61</td>\n",
       "      <td>295383679</td>\n",
       "      <td>https://photos.zillowstatic.com/fp/21aeca51e45...</td>\n",
       "      <td>FOR_RENT</td>\n",
       "      <td>$395/mo</td>\n",
       "      <td>395.0</td>\n",
       "      <td>395</td>\n",
       "      <td>0.0</td>\n",
       "      <td>708 29th St N, Fargo, ND 58102</td>\n",
       "      <td>58102</td>\n",
       "      <td>0.0</td>\n",
       "      <td>1.0</td>\n",
       "      <td>NaN</td>\n",
       "      <td>{'type': 'TIME_ON_INFO', 'text': '59 days ago'...</td>\n",
       "    </tr>\n",
       "    <tr>\n",
       "      <th>3</th>\n",
       "      <td>353</td>\n",
       "      <td>2057955488</td>\n",
       "      <td>https://photos.zillowstatic.com/fp/ff5d20c8055...</td>\n",
       "      <td>FOR_RENT</td>\n",
       "      <td>$440/mo</td>\n",
       "      <td>440.0</td>\n",
       "      <td>440</td>\n",
       "      <td>0.0</td>\n",
       "      <td>1104 University Dr N #31, Fargo, ND 58102</td>\n",
       "      <td>58102</td>\n",
       "      <td>0.0</td>\n",
       "      <td>1.0</td>\n",
       "      <td>NaN</td>\n",
       "      <td>{'type': 'TIME_ON_INFO', 'text': '11 days ago'...</td>\n",
       "    </tr>\n",
       "    <tr>\n",
       "      <th>4</th>\n",
       "      <td>357</td>\n",
       "      <td>2073014763</td>\n",
       "      <td>https://photos.zillowstatic.com/fp/04afd035cda...</td>\n",
       "      <td>FOR_RENT</td>\n",
       "      <td>$500/mo</td>\n",
       "      <td>500.0</td>\n",
       "      <td>500</td>\n",
       "      <td>0.0</td>\n",
       "      <td>1136 5th Ave S #5, Fargo, ND 58103</td>\n",
       "      <td>58103</td>\n",
       "      <td>0.0</td>\n",
       "      <td>1.0</td>\n",
       "      <td>500.0</td>\n",
       "      <td>{'type': 'TIME_ON_INFO', 'text': '8 days ago',...</td>\n",
       "    </tr>\n",
       "    <tr>\n",
       "      <th>5</th>\n",
       "      <td>80</td>\n",
       "      <td>2068363383</td>\n",
       "      <td>https://photos.zillowstatic.com/fp/dbd8fbbfc38...</td>\n",
       "      <td>FOR_RENT</td>\n",
       "      <td>$510/mo</td>\n",
       "      <td>510.0</td>\n",
       "      <td>510</td>\n",
       "      <td>0.0</td>\n",
       "      <td>1818 2nd Ave S, Fargo, ND 58103</td>\n",
       "      <td>58103</td>\n",
       "      <td>2.0</td>\n",
       "      <td>1.0</td>\n",
       "      <td>NaN</td>\n",
       "      <td>{'type': 'TIME_ON_INFO', 'text': '9 days ago',...</td>\n",
       "    </tr>\n",
       "    <tr>\n",
       "      <th>6</th>\n",
       "      <td>73</td>\n",
       "      <td>2081096140</td>\n",
       "      <td>https://photos.zillowstatic.com/fp/f3205e23e28...</td>\n",
       "      <td>FOR_RENT</td>\n",
       "      <td>$520/mo</td>\n",
       "      <td>520.0</td>\n",
       "      <td>520</td>\n",
       "      <td>0.0</td>\n",
       "      <td>1308 10th St N APT 3, Fargo, ND 58102</td>\n",
       "      <td>58102</td>\n",
       "      <td>2.0</td>\n",
       "      <td>1.0</td>\n",
       "      <td>900.0</td>\n",
       "      <td>{'type': 'TIME_ON_INFO', 'text': '37 days ago'...</td>\n",
       "    </tr>\n",
       "  </tbody>\n",
       "</table>\n",
       "</div>"
      ],
      "text/plain": [
       "   Unnamed: 0        zpid                                             imgSrc  \\\n",
       "2          61   295383679  https://photos.zillowstatic.com/fp/21aeca51e45...   \n",
       "3         353  2057955488  https://photos.zillowstatic.com/fp/ff5d20c8055...   \n",
       "4         357  2073014763  https://photos.zillowstatic.com/fp/04afd035cda...   \n",
       "5          80  2068363383  https://photos.zillowstatic.com/fp/dbd8fbbfc38...   \n",
       "6          73  2081096140  https://photos.zillowstatic.com/fp/f3205e23e28...   \n",
       "\n",
       "  statusType    price  unformattedPrice  zestimate  best_deal  \\\n",
       "2   FOR_RENT  $395/mo             395.0        395        0.0   \n",
       "3   FOR_RENT  $440/mo             440.0        440        0.0   \n",
       "4   FOR_RENT  $500/mo             500.0        500        0.0   \n",
       "5   FOR_RENT  $510/mo             510.0        510        0.0   \n",
       "6   FOR_RENT  $520/mo             520.0        520        0.0   \n",
       "\n",
       "                                     address  addressZipcode  beds  baths  \\\n",
       "2             708 29th St N, Fargo, ND 58102           58102   0.0    1.0   \n",
       "3  1104 University Dr N #31, Fargo, ND 58102           58102   0.0    1.0   \n",
       "4         1136 5th Ave S #5, Fargo, ND 58103           58103   0.0    1.0   \n",
       "5            1818 2nd Ave S, Fargo, ND 58103           58103   2.0    1.0   \n",
       "6      1308 10th St N APT 3, Fargo, ND 58102           58102   2.0    1.0   \n",
       "\n",
       "    area                                       variableData  \n",
       "2    NaN  {'type': 'TIME_ON_INFO', 'text': '59 days ago'...  \n",
       "3    NaN  {'type': 'TIME_ON_INFO', 'text': '11 days ago'...  \n",
       "4  500.0  {'type': 'TIME_ON_INFO', 'text': '8 days ago',...  \n",
       "5    NaN  {'type': 'TIME_ON_INFO', 'text': '9 days ago',...  \n",
       "6  900.0  {'type': 'TIME_ON_INFO', 'text': '37 days ago'...  "
      ]
     },
     "execution_count": 3,
     "metadata": {},
     "output_type": "execute_result"
    }
   ],
   "source": [
    "#Read in data and combine into one data frame\n",
    "city = 'Fargo-Moorhead'\n",
    "\n",
    "Home_file1 = pd.read_csv(\"./data/Fargo_Homes_ForSale.csv\")\n",
    "Home_file2 = pd.read_csv(\"./data/Moorhead_Homes_ForSale.csv\")\n",
    "Home_file3 = pd.read_csv(\"./data/West-fargo_Homes_ForSale.csv\")\n",
    "\n",
    "df = Home_file1.append([Home_file2, Home_file3])\n",
    "\n",
    "apt_file1 = pd.read_csv(\"./data/Fargo_Apartments_ForRental.csv\")\n",
    "apt_file2 = pd.read_csv(\"./data/Moorhead_Apartments_ForRental.csv\")\n",
    "apt_file3 = pd.read_csv(\"./data/West-fargo_Apartments_ForRental.csv\")\n",
    "\n",
    "df2 = apt_file1.append([apt_file2, apt_file3])\n",
    "\n",
    "#Clean and sort data\n",
    "null_price = df[df[\"unformattedPrice\"].isnull()]\n",
    "null_price2 = df2[df2[\"unformattedPrice\"].isnull()]\n",
    "df.drop(null_price.index, inplace=True)\n",
    "df2.drop(null_price2.index, inplace=True)\n",
    "\n",
    "df.loc[df['zestimate'] == 0, 'zestimate'] = df.loc[df['zestimate'] == 0, 'unformattedPrice']\n",
    "df.loc[df['zestimate'].isnull(), 'zestimate'] = df['unformattedPrice']\n",
    "df['best_deal'] = df['zestimate'] - df['unformattedPrice']\n",
    "df.sort_values(\"best_deal\")\n",
    "\n",
    "df2.loc[df2['zestimate'] == 0, 'zestimate'] = df2.loc[df2['zestimate'] == 0, 'unformattedPrice']\n",
    "df2.loc[df2['zestimate'].isnull(), 'zestimate'] = df2['unformattedPrice']\n",
    "df2['best_deal'] = df2['zestimate'] - df2['unformattedPrice']\n",
    "df2.sort_values(\"unformattedPrice\").head()"
   ]
  },
  {
   "cell_type": "code",
   "execution_count": null,
   "metadata": {
    "tags": []
   },
   "outputs": [],
   "source": [
    "#Use googlemaps api to convert addresses to coordinates (you'll need to obtain one yourself)\n",
    "with open('credentials.json') as f:\n",
    "    credentials = json.load(f)\n",
    "\n",
    "api_key = credentials['googlemaps'] \n",
    "    \n",
    "def get_lat_long(address, api_key):\n",
    "    base_url = \"https://maps.googleapis.com/maps/api/geocode/json?\"\n",
    "    params = {\n",
    "        \"key\": api_key,\n",
    "        \"address\": address\n",
    "    }\n",
    "    \n",
    "    response = requests.get(base_url, params=params).json()\n",
    "    if response[\"status\"] == \"OK\":\n",
    "        lat = response[\"results\"][0][\"geometry\"][\"location\"][\"lat\"]\n",
    "        long = response[\"results\"][0][\"geometry\"][\"location\"][\"lng\"]\n",
    "        return lat, long\n",
    "    else:\n",
    "        return None, None\n",
    "\n",
    "df[\"lat_long\"] = df[\"address\"].apply(lambda x: get_lat_long(x, api_key))\n",
    "df[[\"latitude\", \"longitude\"]] = pd.DataFrame(df[\"lat_long\"].tolist(), index=df.index)\n",
    "df = df.drop(\"lat_long\", axis=1)\n",
    "\n",
    "df2[\"lat_long\"] = df2[\"address\"].apply(lambda x: get_lat_long(x, api_key))\n",
    "df2[[\"latitude\", \"longitude\"]] = pd.DataFrame(df2[\"lat_long\"].tolist(), index=df2.index)\n",
    "df2 = df2.drop(\"lat_long\", axis=1)\n",
    "\n",
    "#drop coordinates that are not anywhere near our city\n",
    "df = df.drop(df[(df['latitude'] > 47) | (df['latitude'] < 46) | (df['longitude'] > -96) | (df['longitude'] < -97)].index)\n",
    "df2 = df2.drop(df2[(df2['latitude'] > 47) | (df2['latitude'] < 46) | (df2['longitude'] > -96) | (df2['longitude'] < -97)].index)"
   ]
  },
  {
   "cell_type": "markdown",
   "metadata": {},
   "source": [
    "## Homes"
   ]
  },
  {
   "cell_type": "code",
   "execution_count": null,
   "metadata": {
    "tags": []
   },
   "outputs": [],
   "source": [
    "#Plot a map of Houses available\n",
    "geometry = [Point(xy) for xy in zip(df['longitude'],df['latitude'])]\n",
    "\n",
    "wardlink = \"./geodata/Fargo-Moorhead_Area-polygon.shp\"\n",
    "\n",
    "ward = gpd.read_file(wardlink, bbox=None, mask=None, rows=None)\n",
    "geo_df = gpd.GeoDataFrame(geometry = geometry)\n",
    "\n",
    "ward.crs = {'init':\"epsg:4326\"}\n",
    "geo_df.crs = {'init':\"epsg:4326\"}\n",
    "\n",
    "ax = ward.plot(alpha=0.35, color='#ffffff', zorder=1)\n",
    "ax = geo_df.plot(ax = ax, markersize = 20, color = 'red',marker = '*',label = 'Fargo', zorder=3)\n",
    "ctx.add_basemap(ax, crs=geo_df.crs.to_string(), source=ctx.providers.OpenStreetMap.Mapnik)\n",
    "print(\"Total Number of Houses Available for sale in \"+city+\": \"+str(len(df)))\n",
    "plt.show()"
   ]
  },
  {
   "cell_type": "markdown",
   "metadata": {},
   "source": [
    "### Average"
   ]
  },
  {
   "cell_type": "code",
   "execution_count": null,
   "metadata": {
    "tags": []
   },
   "outputs": [],
   "source": [
    "# calculate mean and media house\n",
    "home_averages = df.copy()\n",
    "\n",
    "num_cols = home_averages.select_dtypes(include=['int', 'float']).drop(['zpid', 'addressZipcode'], axis=1)\n",
    "\n",
    "home_averages = pd.DataFrame({\n",
    "    'mean': num_cols.mean(),\n",
    "    'median': num_cols.median(),\n",
    "}).transpose()\n",
    "\n",
    "home_averages = home_averages.round(decimals = 2)\n",
    "home_averages = home_averages[['unformattedPrice', 'zestimate', 'best_deal', 'beds', 'baths', 'area']]\n",
    "home_averages = home_averages.tail(3)\n",
    "\n",
    "names = ['Mean', 'Median']\n",
    "home_averages['name'] = names\n",
    "new_col = home_averages['name']\n",
    "home_averages = home_averages.drop('name', axis=1)\n",
    "home_averages.insert(0, 'name', new_col)\n",
    "\n",
    "home_averages = home_averages.rename(columns={'unformattedPrice': 'price'}) \n",
    "print('Statistics on the Average House For Sale in '+ city + ':' )\n",
    "home_averages"
   ]
  },
  {
   "cell_type": "markdown",
   "metadata": {},
   "source": [
    "### Cheapest and most expensive houses available"
   ]
  },
  {
   "cell_type": "code",
   "execution_count": null,
   "metadata": {
    "tags": []
   },
   "outputs": [],
   "source": [
    "max_price = df.copy()\n",
    "max_price = max_price[['price', 'unformattedPrice', 'zestimate', 'best_deal', 'beds', 'baths', 'area']]\n",
    "max_price.sort_values(\"unformattedPrice\")\n",
    "print(\"Cheapest House in \"+city+\":\")\n",
    "max_price.head(1)\n"
   ]
  },
  {
   "cell_type": "code",
   "execution_count": null,
   "metadata": {
    "tags": []
   },
   "outputs": [],
   "source": [
    "print(\"Most Expensive House in \"+city+\":\")\n",
    "max_price.tail(1)"
   ]
  },
  {
   "cell_type": "markdown",
   "metadata": {
    "tags": []
   },
   "source": [
    "### Histogram of prices"
   ]
  },
  {
   "cell_type": "code",
   "execution_count": null,
   "metadata": {
    "tags": []
   },
   "outputs": [],
   "source": [
    "sns.set(rc={\"figure.figsize\":(10, 5)})\n",
    "plt.hist(df['unformattedPrice'], range={0, 1500000})\n",
    "plt.xlabel('Unformatted Price')\n",
    "plt.ylabel('Frequency')\n",
    "plt.title('Home Prices Across '+ city, fontdict={'size': 20, 'weight': 'bold'})\n",
    "plt.ticklabel_format(style='plain', axis=\"x\")\n",
    "plt.show()"
   ]
  },
  {
   "cell_type": "markdown",
   "metadata": {},
   "source": [
    "### Pie chart of builders"
   ]
  },
  {
   "cell_type": "code",
   "execution_count": null,
   "metadata": {
    "tags": []
   },
   "outputs": [],
   "source": [
    "builders = df.copy()\n",
    "\n",
    "to_replace = [', llc', 'llc', ', inc']\n",
    "for substring in to_replace:\n",
    "    builders['builderName'] = builders['builderName'].str.replace(substring, '')\n",
    "\n",
    "builder_count = builders[\"builderName\"].value_counts()\n",
    "\n",
    "# create new category that groups builders making up <2% of total\n",
    "total = builder_count.sum()\n",
    "threshold = 0.02\n",
    "\n",
    "builder_percent = builder_count/builder_count.sum()\n",
    "other_percent = builder_percent[builder_percent < threshold].sum()\n",
    "builder_percent = builder_percent[builder_percent >= threshold]\n",
    "builder_percent[\"other (<2% share)\"] = other_percent\n",
    "\n",
    "builder_percent.plot.pie(figsize=(15, 10), autopct='%1.1f%%', colors=['red', 'green', 'blue', 'purple', 'orange', 'pink', 'yellow', 'maroon', 'magenta', 'turquoise' ])\n",
    "plt.title(\"Construction Companies' Share of Houses Currently Available for Sale in Fargo-Moorhead\", fontdict={'size': 15, 'weight': 'bold'})\n",
    "plt.ylabel(\"\")\n",
    "print(\"Note: This chart doesn't include houses where the construction company was unlisted\")\n",
    "plt.show()"
   ]
  },
  {
   "cell_type": "markdown",
   "metadata": {
    "tags": []
   },
   "source": [
    "## Pie chart of brokers"
   ]
  },
  {
   "cell_type": "code",
   "execution_count": null,
   "metadata": {
    "tags": []
   },
   "outputs": [],
   "source": [
    "brokers = df.copy()\n",
    "\n",
    "to_replace = [', llc', 'llc', ', inc']\n",
    "for substring in to_replace:\n",
    "    brokers['brokerName'] = brokers['brokerName'].str.replace(substring, '')\n",
    "\n",
    "broker_count = brokers[\"brokerName\"].value_counts()\n",
    "\n",
    "# create new category that groups brokers making up <2% of total\n",
    "total = broker_count.sum()\n",
    "threshold = 0.02\n",
    "\n",
    "broker_percent = broker_count/broker_count.sum()\n",
    "other_percent = broker_percent[broker_percent < threshold].sum()\n",
    "broker_percent = broker_percent[broker_percent >= threshold]\n",
    "broker_percent[\"other (<2% share)\"] = other_percent\n",
    "\n",
    "broker_percent.plot.pie(figsize=(15, 10), autopct='%1.1f%%', colors=['red', 'green', 'blue', 'purple', 'orange', 'pink', 'yellow', 'maroon', 'magenta', 'turquoise' ])\n",
    "plt.title(\"Brokerage Companies' Share of Houses Currently Available for Sale in Fargo-Moorhead\", fontdict={'size': 15, 'weight': 'bold'})\n",
    "plt.ylabel(\"\")\n",
    "print(\"Note: This chart doesn't include houses where the brokerage was unlisted\")\n",
    "plt.show()"
   ]
  },
  {
   "cell_type": "markdown",
   "metadata": {
    "tags": []
   },
   "source": [
    "## Beds and Baths"
   ]
  },
  {
   "cell_type": "code",
   "execution_count": null,
   "metadata": {
    "tags": []
   },
   "outputs": [],
   "source": [
    "sns.set(rc={\"figure.figsize\":(10, 5)})\n",
    "num_beds = int(df['beds'].max())\n",
    "plt.hist(df['beds'], bins=num_beds)\n",
    "plt.xlabel('Beds')\n",
    "plt.ylabel('Frequency')\n",
    "plt.title('Number of Bedrooms in Available Houses Across '+city, fontdict={'size': 15, 'weight': 'bold'})\n",
    "plt.show()"
   ]
  },
  {
   "cell_type": "code",
   "execution_count": null,
   "metadata": {
    "tags": []
   },
   "outputs": [],
   "source": [
    "sns.set(rc={\"figure.figsize\":(10, 5)})\n",
    "num_bins = int(df['baths'].max())\n",
    "plt.hist(df['baths'], bins=num_bins, range={df['baths'].min(), df['baths'].max()})\n",
    "plt.xlabel('Baths')\n",
    "plt.ylabel('Frequency')\n",
    "plt.title('Number of Baths in Apartment Rental Across '+ city, fontdict={'size': 15, 'weight': 'bold'})\n",
    "plt.show()"
   ]
  },
  {
   "cell_type": "markdown",
   "metadata": {},
   "source": [
    "### Scatter plot comparing Area with Price"
   ]
  },
  {
   "cell_type": "code",
   "execution_count": null,
   "metadata": {
    "tags": []
   },
   "outputs": [],
   "source": [
    "sns.set(rc={\"figure.figsize\":(20, 5)})\n",
    "scatter = sns.scatterplot(data=df, x='area', y='unformattedPrice', legend='auto', s=50)\n",
    "scatter.set_title(\"Correlation between Area and Price in \"+ city + \" Homes For Sale\", fontdict={'size': 20, 'weight': 'bold'})\n",
    "scatter.set_xlabel('Area (sq ft)', fontdict={'size': 15})\n",
    "scatter.set_ylabel('Price', fontdict={'size': 15})\n",
    "plt.show()"
   ]
  },
  {
   "cell_type": "markdown",
   "metadata": {
    "tags": []
   },
   "source": [
    "# Apartments"
   ]
  },
  {
   "cell_type": "markdown",
   "metadata": {},
   "source": [
    "### Visualize Apartment locations"
   ]
  },
  {
   "cell_type": "code",
   "execution_count": null,
   "metadata": {
    "tags": []
   },
   "outputs": [],
   "source": [
    "geometry = [Point(xy) for xy in zip(df2['longitude'],df2['latitude'])]\n",
    "\n",
    "wardlink = \"./geodata/Fargo-Moorhead_Area-polygon.shp\"\n",
    "\n",
    "ward = gpd.read_file(wardlink, bbox=None, mask=None, rows=None)\n",
    "geo_df = gpd.GeoDataFrame(geometry = geometry)\n",
    "\n",
    "ward.crs = {'init':\"epsg:4326\"}\n",
    "geo_df.crs = {'init':\"epsg:4326\"}\n",
    "ax = ward.plot(alpha=0.35, color='#ffffff', zorder=1)\n",
    "ax = geo_df.plot(ax = ax, markersize = 20, color = 'red',marker = '*',label = 'Fargo', zorder=3)\n",
    "\n",
    "ctx.add_basemap(ax, crs=geo_df.crs.to_string(), source=ctx.providers.OpenStreetMap.Mapnik)\n",
    "print(\"Total Number of apartments available for rental in \"+city+\": \" +str(len(df2)))\n",
    "plt.show()"
   ]
  },
  {
   "cell_type": "markdown",
   "metadata": {},
   "source": [
    "### Cheapest and Most Expensive Apartments available"
   ]
  },
  {
   "cell_type": "code",
   "execution_count": null,
   "metadata": {},
   "outputs": [],
   "source": [
    "max_price = df2.copy()\n",
    "max_price = max_price[['price', 'unformattedPrice', 'zestimate', 'best_deal', 'beds', 'baths', 'area']]\n",
    "max_price.sort_values(\"unformattedPrice\")\n",
    "print(\"Cheapest Apartment in \"+city+\":\")\n",
    "max_price.head(1)"
   ]
  },
  {
   "cell_type": "code",
   "execution_count": null,
   "metadata": {},
   "outputs": [],
   "source": [
    "print(\"Most Expensive Apartment in \"+city+\":\")\n",
    "max_price.tail(1)"
   ]
  },
  {
   "cell_type": "markdown",
   "metadata": {
    "tags": []
   },
   "source": [
    "### Averages"
   ]
  },
  {
   "cell_type": "code",
   "execution_count": null,
   "metadata": {
    "tags": []
   },
   "outputs": [],
   "source": [
    "apt_averages = df2.copy()\n",
    "\n",
    "num_cols = apt_averages.select_dtypes(include=['int', 'float']).drop(['addressZipcode'], axis=1)\n",
    "\n",
    "apt_averages = pd.DataFrame({\n",
    "    'mean': num_cols.mean(),\n",
    "    'median': num_cols.median(),\n",
    "}).transpose()\n",
    "\n",
    "apt_averages = apt_averages.round(decimals = 2)\n",
    "apt_averages = apt_averages[['unformattedPrice', 'zestimate', 'best_deal', 'beds', 'baths', 'area']]\n",
    "apt_averages = apt_averages.tail(3)\n",
    "\n",
    "names = ['Mean', 'Median']\n",
    "apt_averages['name'] = names\n",
    "new_col = apt_averages['name']\n",
    "apt_averages = apt_averages.drop('name', axis=1)\n",
    "apt_averages.insert(0, 'name', new_col)\n",
    "\n",
    "apt_averages = apt_averages.rename(columns={'unformattedPrice': 'price'}) \n",
    "\n",
    "print('Average Apartment For Rental in '+ city + ': ')\n",
    "apt_averages"
   ]
  },
  {
   "cell_type": "markdown",
   "metadata": {},
   "source": [
    "### Histogram of price"
   ]
  },
  {
   "cell_type": "code",
   "execution_count": null,
   "metadata": {
    "tags": []
   },
   "outputs": [],
   "source": [
    "plt.hist(df2['unformattedPrice'])\n",
    "plt.xlabel('Rate per Month')\n",
    "plt.ylabel('Frequency')\n",
    "plt.title('Apartments Rental Rates Across ' + city, fontdict={'size': 20, 'weight': 'bold'})\n",
    "plt.show()"
   ]
  },
  {
   "cell_type": "markdown",
   "metadata": {
    "tags": []
   },
   "source": [
    "### Beds, baths, and area"
   ]
  },
  {
   "cell_type": "code",
   "execution_count": null,
   "metadata": {
    "tags": []
   },
   "outputs": [],
   "source": [
    "sns.set(rc={\"figure.figsize\":(10, 5)})\n",
    "num_bins = int(df2['beds'].max())\n",
    "plt.hist(df2['beds'], bins=num_bins, range={df2['beds'].max(),df2['beds'].min()})\n",
    "plt.xlabel('Beds')\n",
    "plt.ylabel('Frequency')\n",
    "plt.title('Number of Beds in Apartment Rental Across '+ city, fontdict={'size': 15, 'weight': 'bold'})\n",
    "plt.ylim(0, 25)\n",
    "plt.show()"
   ]
  },
  {
   "cell_type": "code",
   "execution_count": null,
   "metadata": {
    "tags": []
   },
   "outputs": [],
   "source": [
    "sns.set(rc={\"figure.figsize\":(5, 5)})\n",
    "num_beds = int(df2['beds'].max())+1\n",
    "plt.hist(df2['baths'], bins=num_beds, range={df2['baths'].min(), df2['baths'].max()})\n",
    "plt.xlabel('Baths')\n",
    "plt.ylabel('Frequency')\n",
    "plt.title('Number of Baths in Apartment Rentals Across '+city, fontdict={'size': 15, 'weight': 'bold'})\n",
    "plt.ticklabel_format(style='plain', axis=\"x\")\n",
    "plt.show()"
   ]
  },
  {
   "cell_type": "markdown",
   "metadata": {},
   "source": [
    "### Scatter plot comparing Area with Price"
   ]
  },
  {
   "cell_type": "code",
   "execution_count": null,
   "metadata": {
    "tags": []
   },
   "outputs": [],
   "source": [
    "sns.set(rc={\"figure.figsize\":(15, 5)})\n",
    "scatter = sns.scatterplot(data=df2, x='area', y='unformattedPrice', legend='auto', s=50)\n",
    "scatter.set_title(\"Correlation between Area and Price in \"+ city + \" Apartments For Rental\", fontdict={'size': 20, 'weight': 'bold'})\n",
    "scatter.set_xlabel('Area (sq ft)', fontdict={'size': 15})\n",
    "scatter.set_ylabel('Price', fontdict={'size': 15})\n",
    "plt.show()"
   ]
  }
 ],
 "metadata": {
  "kernelspec": {
   "display_name": "Python 3 (ipykernel)",
   "language": "python",
   "name": "python3"
  },
  "language_info": {
   "codemirror_mode": {
    "name": "ipython",
    "version": 3
   },
   "file_extension": ".py",
   "mimetype": "text/x-python",
   "name": "python",
   "nbconvert_exporter": "python",
   "pygments_lexer": "ipython3",
   "version": "3.10.9"
  }
 },
 "nbformat": 4,
 "nbformat_minor": 4
}
